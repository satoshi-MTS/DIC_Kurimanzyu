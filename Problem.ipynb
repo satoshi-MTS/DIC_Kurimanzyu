{
 "cells": [
  {
   "cell_type": "markdown",
   "id": "2c8b9c97",
   "metadata": {},
   "source": [
    "# 栗まんじゅう問題\n",
    "## 【問題】栗まんじゅうが太陽系を覆う日"
   ]
  },
  {
   "cell_type": "code",
   "execution_count": 1,
   "id": "c0bb7cf3",
   "metadata": {},
   "outputs": [
    {
     "data": {
      "image/png": "[encoded data removed]",
      "text/plain": [
       "<Figure size 432x288 with 1 Axes>"
      ]
     },
     "metadata": {
      "needs_background": "light"
     },
     "output_type": "display_data"
    },
    {
     "name": "stdout",
     "output_type": "stream",
     "text": [
      "体積0.001[m^3]の栗まんじゅうにバイバインを使用した際、体積3e+80[m^3]の太陽系の大きさを超えるためには23時間15分必要です。\n"
     ]
    }
   ],
   "source": [
    "# モジュールのインプット\n",
    "import matplotlib.pyplot as plt\n",
    "\n",
    "\n",
    "# 関数の宣言\n",
    "def baibain(start_volume, goal_volume):\n",
    "\t\"\"\"\n",
    "\tfunction : ある物体の体積[start_volume]がバイバインを使用した際、\n",
    "\t\t\t   目標の体積[goal_volume]を何時間[number_of_hours]何分[number_of_minutes]で超えるか計算する関数\n",
    "\n",
    "\t:param start_volume: float\n",
    "\t\tバイバインを使用する物体の体積\n",
    "\t:param goal_volume: float\n",
    "\t\t目標の体積\n",
    "\tvolume : int (計算用)\n",
    "\t\tバイバインを使用している最中の物体の体積\n",
    "\tnumber_of_5minutes : int (計算用)\n",
    "\t\t5分で倍になるバイバインの計算用の値\n",
    "\tlist_of_minutes : list (グラフ用)\n",
    "\t\tグラフのx軸　分数\n",
    "\tlist_of_volume : list (グラフ用)\n",
    "\t\tグラフのy軸　体積\n",
    "\t:return number_of_hours : int\n",
    "\t\t目標の体積を超えるのに必要な時間\n",
    "\t:return number_of_minutes : int\n",
    "\t\t目標の体積を超えるのに必要な分数\n",
    "\t\"\"\"\n",
    "\n",
    "\t# パラメータの設定\n",
    "\tlist_of_minutes = []\n",
    "\tlist_of_volume = []\n",
    "\tvolume = start_volume\n",
    "\tnumber_of_5minutes = 0\n",
    "\n",
    "\t# 計算\n",
    "\twhile volume < goal_volume:\n",
    "\t\tvolume = start_volume * (2 ** number_of_5minutes)\n",
    "\t\tlist_of_volume.append(volume)\n",
    "\t\tnumber_of_5minutes += 1\n",
    "\t\tlist_of_minutes.append(number_of_5minutes * 5)\n",
    "\n",
    "\t# 時間及び分数への換算\n",
    "\tnumber_of_hours = number_of_5minutes // 12\n",
    "\tnumber_of_minutes = number_of_5minutes % 12 * 5\n",
    "\n",
    "\t# グラフのプロット\n",
    "\tplt.title('baibain graph')\n",
    "\tplt.xlabel('minutes')\n",
    "\tplt.ylabel('volume')\n",
    "\tplt.plot(list_of_minutes, list_of_volume)\n",
    "\tplt.show()\n",
    "\n",
    "\t# 返り値の設定\n",
    "\treturn number_of_hours, number_of_minutes\n",
    "\n",
    "\n",
    "# パラメータの設定\n",
    "VOLUME_OF_KURIMANZYU = 10e-4\n",
    "VOLUME_OF_THE_UNIVERSE = 3e+80\n",
    "\n",
    "# 結果の格納\n",
    "hours, minutes = baibain(VOLUME_OF_KURIMANZYU, VOLUME_OF_THE_UNIVERSE)\n",
    "\n",
    "# 結果の表示\n",
    "print('体積{}[m^3]の栗まんじゅうにバイバインを使用した際、体積{}[m^3]の太陽系の大きさを超えるためには{}時間{}分必要です。'\n",
    "\t     .format(VOLUME_OF_KURIMANZYU, VOLUME_OF_THE_UNIVERSE, hours, minutes))\n"
   ]
  }
 ],
 "metadata": {
  "kernelspec": {
   "display_name": "Python 3 (ipykernel)",
   "language": "python",
   "name": "python3"
  },
  "language_info": {
   "codemirror_mode": {
    "name": "ipython",
    "version": 3
   },
   "file_extension": ".py",
   "mimetype": "text/x-python",
   "name": "python",
   "nbconvert_exporter": "python",
   "pygments_lexer": "ipython3",
   "version": "3.9.5"
  }
 },
 "nbformat": 4,
 "nbformat_minor": 5
}
